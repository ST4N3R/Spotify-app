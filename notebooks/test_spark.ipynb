{
 "cells": [
  {
   "cell_type": "code",
   "execution_count": 1,
   "metadata": {},
   "outputs": [],
   "source": [
    "from pyspark.sql import SparkSession"
   ]
  },
  {
   "cell_type": "code",
   "execution_count": 2,
   "metadata": {},
   "outputs": [],
   "source": [
    "spark = SparkSession.builder.appName(\"Spotify API\").getOrCreate()"
   ]
  },
  {
   "cell_type": "code",
   "execution_count": 3,
   "metadata": {},
   "outputs": [],
   "source": [
    "data_path = r\"C:\\Users\\Stanisław\\Desktop\\Programowanie\\GitHub\\Spotify-app\\data\\data.json\"\n",
    "\n",
    "df = spark.read.json(data_path, multiLine=True)"
   ]
  },
  {
   "cell_type": "code",
   "execution_count": 4,
   "metadata": {},
   "outputs": [
    {
     "name": "stdout",
     "output_type": "stream",
     "text": [
      "+--------------------+--------------------+--------------------+-----------+-----------+--------+--------------+--------------------+--------------------+--------------------+--------+--------------------+----------+--------------------+------------+-----+--------------------+\n",
      "|               album|             artists|   available_markets|disc_number|duration_ms|explicit|  external_ids|       external_urls|                href|                  id|is_local|                name|popularity|         preview_url|track_number| type|                 uri|\n",
      "+--------------------+--------------------+--------------------+-----------+-----------+--------+--------------+--------------------+--------------------+--------------------+--------+--------------------+----------+--------------------+------------+-----+--------------------+\n",
      "|{SINGLE, [{{https...|[{{https://open.s...|[AR, AU, AT, BE, ...|          1|     219520|    true|{USUG12208458}|{https://open.spo...|https://api.spoti...|2fihoO76h66Hio6no...|   false|The DJ is Crying ...|        45|https://p.scdn.co...|           1|track|spotify:track:2fi...|\n",
      "|{ALBUM, [{{https:...|[{{https://open.s...|[AR, AU, AT, BE, ...|          1|     220933|    true|{USUG12305407}|{https://open.spo...|https://api.spoti...|2IA1ctUxjk865QW3C...|   false|             Inertia|        61|https://p.scdn.co...|           5|track|spotify:track:2IA...|\n",
      "|{ALBUM, [{{https:...|[{{https://open.s...|[AR, AU, AT, BE, ...|          1|     220093|    true|{USUG12305399}|{https://open.spo...|https://api.spoti...|7fhiGdj0nn0ZCmIAo...|   false|           Maybe Man|        59|https://p.scdn.co...|           1|track|spotify:track:7fh...|\n",
      "|{ALBUM, [{{https:...|[{{https://open.s...|[AR, AU, AT, BE, ...|          2|     330306|   false|{PLA391605309}|{https://open.spo...|https://api.spoti...|5ls2FNQUmqTqMha40...|   false|Co Mi Panie Dasz ...|        49|https://p.scdn.co...|           9|track|spotify:track:5ls...|\n",
      "|{SINGLE, [{{https...|[{{https://open.s...|[AR, AU, AT, BE, ...|          1|     218080|   false|{GBCEL0400184}|{https://open.spo...|https://api.spoti...|46gSk82duJtX3TTA1...|   false|This fffire - New...|        65|https://p.scdn.co...|           1|track|spotify:track:46g...|\n",
      "|{ALBUM, [{{https:...|[{{https://open.s...|[AR, AU, AT, BE, ...|          1|     215000|    true|{USUG12305393}|{https://open.spo...|https://api.spoti...|3PY47EpOouHdbDI4z...|   false|   Touchy Feely Fool|        57|https://p.scdn.co...|           2|track|spotify:track:3PY...|\n",
      "|{ALBUM, [{{https:...|[{{https://open.s...|[AR, AU, AT, BE, ...|          1|     422146|    true|{AUBM01700503}|{https://open.spo...|https://api.spoti...|22TntnVO3lQNDR5ns...|   false|  Achilles Come Down|        65|https://p.scdn.co...|           8|track|spotify:track:22T...|\n",
      "|{ALBUM, [{{https:...|[{{https://open.s...|                  []|          2|     227826|   false|{IEACJ2300007}|{https://open.spo...|https://api.spoti...|1LjTZcypRLbRqNv54...|   false|   De Selby (Part 2)|        38|https://p.scdn.co...|           2|track|spotify:track:1Lj...|\n",
      "|{SINGLE, [{{https...|[{{https://open.s...|[AR, AU, AT, BE, ...|          1|     258939|   false|{USAT22403022}|{https://open.spo...|https://api.spoti...|1PIBxfR4k67snh0hU...|   false|       Lost In Space|        54|https://p.scdn.co...|           1|track|spotify:track:1PI...|\n",
      "|{ALBUM, [{{https:...|[{{https://open.s...|[AR, AU, AT, BE, ...|          1|     179160|   false|{GBAYE1800848}|{https://open.spo...|https://api.spoti...|135ArLV1euyyeegU9...|   false|Army Dreamers - 2...|        70|https://p.scdn.co...|          10|track|spotify:track:135...|\n",
      "|{ALBUM, [{{https:...|[{{https://open.s...|[AR, AU, AT, BE, ...|          2|     175301|   false|{GBUM72101299}|{https://open.spo...|https://api.spoti...|3Che0Dm9dlytqujcp...|   false|          Heat Waves|        59|https://p.scdn.co...|           3|track|spotify:track:3Ch...|\n",
      "|{ALBUM, [{{https:...|[{{https://open.s...|[AR, AU, AT, BE, ...|          1|     181533|   false|{USRE19900151}|{https://open.spo...|https://api.spoti...|6L89mwZXSOwYl76YX...|   false|         Basket Case|        81|https://p.scdn.co...|           7|track|spotify:track:6L8...|\n",
      "|{ALBUM, [{{https:...|[{{https://open.s...|[AU, AT, BE, BG, ...|          1|     268293|   false|{GBJXP0908801}|{https://open.spo...|https://api.spoti...|0vilsskur4xcmI43A...|   false|              Hustle|        16|https://p.scdn.co...|           1|track|spotify:track:0vi...|\n",
      "|{ALBUM, [{{https:...|[{{https://open.s...|[AR, AU, AT, BE, ...|          1|     230693|   false|{GB2DY1600029}|{https://open.spo...|https://api.spoti...|1LPGwuFgIzbJoShfD...|   false|               Youth|        67|https://p.scdn.co...|           2|track|spotify:track:1LP...|\n",
      "|{ALBUM, [{{https:...|[{{https://open.s...|[AR, AU, AT, BE, ...|          1|     269000|   false|{USWB10201694}|{https://open.spo...|https://api.spoti...|3ZOEytgrvLwQaqXre...|   false|          Can't Stop|        83|https://p.scdn.co...|           7|track|spotify:track:3ZO...|\n",
      "|{SINGLE, [{{https...|[{{https://open.s...|[AR, AU, AT, BE, ...|          1|     225946|    true|{USUG12302239}|{https://open.spo...|https://api.spoti...|5udkv8BEG1sAN5ZtR...|   false|       The Dumb Song|        45|https://p.scdn.co...|           1|track|spotify:track:5ud...|\n",
      "|{ALBUM, [{{https:...|[{{https://open.s...|                  []|          1|     251424|   false|{IEACJ2300335}|{https://open.spo...|https://api.spoti...|5Z0UnEtpLDQyYlWwg...|   false|           Too Sweet|        79|https://p.scdn.co...|           1|track|spotify:track:5Z0...|\n",
      "|{ALBUM, [{{https:...|[{{https://open.s...|                [PL]|          1|     280094|   false|{PLC592300213}|{https://open.spo...|https://api.spoti...|4Pugt57DqpMR8A0Ns...|   false|     Jesień – Tańcuj|        47|https://p.scdn.co...|          10|track|spotify:track:4Pu...|\n",
      "|{ALBUM, [{{https:...|[{{https://open.s...|[AR, AU, AT, BE, ...|          1|     202133|    true|{GBCEL0501190}|{https://open.spo...|https://api.spoti...|2zzLRQ78kKfPTx8FJ...|   false|When The Sun Goes...|        71|https://p.scdn.co...|          11|track|spotify:track:2zz...|\n",
      "|{ALBUM, [{{https:...|[{{https://open.s...|[AR, AU, AT, BE, ...|          1|     331546|    true|{USUG12305421}|{https://open.spo...|https://api.spoti...|5WHwVdTQNWdI8MdLC...|   false|                2085|        53|https://p.scdn.co...|          12|track|spotify:track:5WH...|\n",
      "+--------------------+--------------------+--------------------+-----------+-----------+--------+--------------+--------------------+--------------------+--------------------+--------+--------------------+----------+--------------------+------------+-----+--------------------+\n",
      "\n"
     ]
    }
   ],
   "source": [
    "df.show()"
   ]
  },
  {
   "cell_type": "code",
   "execution_count": 17,
   "metadata": {},
   "outputs": [
    {
     "name": "stdout",
     "output_type": "stream",
     "text": [
      "+--------------------+\n",
      "|               album|\n",
      "+--------------------+\n",
      "|{SINGLE, [{{https...|\n",
      "|{ALBUM, [{{https:...|\n",
      "|{ALBUM, [{{https:...|\n",
      "|{ALBUM, [{{https:...|\n",
      "|{SINGLE, [{{https...|\n",
      "|{ALBUM, [{{https:...|\n",
      "|{ALBUM, [{{https:...|\n",
      "|{ALBUM, [{{https:...|\n",
      "|{SINGLE, [{{https...|\n",
      "|{ALBUM, [{{https:...|\n",
      "|{ALBUM, [{{https:...|\n",
      "|{ALBUM, [{{https:...|\n",
      "|{ALBUM, [{{https:...|\n",
      "|{ALBUM, [{{https:...|\n",
      "|{ALBUM, [{{https:...|\n",
      "|{SINGLE, [{{https...|\n",
      "|{ALBUM, [{{https:...|\n",
      "|{ALBUM, [{{https:...|\n",
      "|{ALBUM, [{{https:...|\n",
      "|{ALBUM, [{{https:...|\n",
      "+--------------------+\n",
      "\n"
     ]
    }
   ],
   "source": [
    "df.select('album').show()"
   ]
  },
  {
   "cell_type": "code",
   "execution_count": 13,
   "metadata": {},
   "outputs": [
    {
     "name": "stdout",
     "output_type": "stream",
     "text": [
      "Row(album=Row(album_type='SINGLE', artists=[Row(external_urls=Row(spotify='https://open.spotify.com/artist/6s22t5Y3prQHyaHWUN1R1C'), href='https://api.spotify.com/v1/artists/6s22t5Y3prQHyaHWUN1R1C', id='6s22t5Y3prQHyaHWUN1R1C', name='AJR', type='artist', uri='spotify:artist:6s22t5Y3prQHyaHWUN1R1C')], available_markets=['AR', 'AU', 'AT', 'BE', 'BO', 'BR', 'BG', 'CA', 'CL', 'CO', 'CR', 'CY', 'CZ', 'DK', 'DO', 'DE', 'EC', 'EE', 'SV', 'FI', 'FR', 'GR', 'GT', 'HN', 'HK', 'HU', 'IS', 'IE', 'IT', 'LV', 'LT', 'LU', 'MY', 'MT', 'MX', 'NL', 'NZ', 'NI', 'NO', 'PA', 'PY', 'PE', 'PH', 'PL', 'PT', 'SG', 'SK', 'ES', 'SE', 'CH', 'TW', 'TR', 'UY', 'US', 'GB', 'AD', 'LI', 'MC', 'ID', 'JP', 'TH', 'VN', 'RO', 'IL', 'ZA', 'SA', 'AE', 'BH', 'QA', 'OM', 'KW', 'EG', 'MA', 'DZ', 'TN', 'LB', 'JO', 'PS', 'IN', 'KZ', 'MD', 'UA', 'AL', 'BA', 'HR', 'ME', 'MK', 'RS', 'SI', 'KR', 'BD', 'PK', 'LK', 'GH', 'KE', 'NG', 'TZ', 'UG', 'AG', 'AM', 'BS', 'BB', 'BZ', 'BT', 'BW', 'BF', 'CV', 'CW', 'DM', 'FJ', 'GM', 'GE', 'GD', 'GW', 'GY', 'HT', 'JM', 'KI', 'LS', 'LR', 'MW', 'MV', 'ML', 'MH', 'FM', 'NA', 'NR', 'NE', 'PW', 'PG', 'WS', 'SM', 'ST', 'SN', 'SC', 'SL', 'SB', 'KN', 'LC', 'VC', 'SR', 'TL', 'TO', 'TT', 'TV', 'VU', 'AZ', 'BN', 'BI', 'KH', 'CM', 'TD', 'KM', 'GQ', 'SZ', 'GA', 'GN', 'KG', 'LA', 'MO', 'MR', 'MN', 'NP', 'RW', 'TG', 'UZ', 'ZW', 'BJ', 'MG', 'MU', 'MZ', 'AO', 'CI', 'DJ', 'ZM', 'CD', 'CG', 'IQ', 'LY', 'TJ', 'VE', 'ET', 'XK'], external_urls=Row(spotify='https://open.spotify.com/album/09XyW9pKOCq5Cqq7IITKDB'), href='https://api.spotify.com/v1/albums/09XyW9pKOCq5Cqq7IITKDB', id='09XyW9pKOCq5Cqq7IITKDB', images=[Row(height=640, url='https://i.scdn.co/image/ab67616d0000b2735dc58dc72b5f699a8ec6b8d6', width=640), Row(height=300, url='https://i.scdn.co/image/ab67616d00001e025dc58dc72b5f699a8ec6b8d6', width=300), Row(height=64, url='https://i.scdn.co/image/ab67616d000048515dc58dc72b5f699a8ec6b8d6', width=64)], name='The DJ Is Crying For Help', release_date='2022-11-18', release_date_precision='day', total_tracks=1, type='album', uri='spotify:album:09XyW9pKOCq5Cqq7IITKDB'))\n"
     ]
    }
   ],
   "source": [
    "print(df.select('album').collect()[0])"
   ]
  },
  {
   "cell_type": "code",
   "execution_count": 15,
   "metadata": {},
   "outputs": [
    {
     "name": "stdout",
     "output_type": "stream",
     "text": [
      "Row(album_type='SINGLE', artists=[Row(external_urls=Row(spotify='https://open.spotify.com/artist/6s22t5Y3prQHyaHWUN1R1C'), href='https://api.spotify.com/v1/artists/6s22t5Y3prQHyaHWUN1R1C', id='6s22t5Y3prQHyaHWUN1R1C', name='AJR', type='artist', uri='spotify:artist:6s22t5Y3prQHyaHWUN1R1C')], available_markets=['AR', 'AU', 'AT', 'BE', 'BO', 'BR', 'BG', 'CA', 'CL', 'CO', 'CR', 'CY', 'CZ', 'DK', 'DO', 'DE', 'EC', 'EE', 'SV', 'FI', 'FR', 'GR', 'GT', 'HN', 'HK', 'HU', 'IS', 'IE', 'IT', 'LV', 'LT', 'LU', 'MY', 'MT', 'MX', 'NL', 'NZ', 'NI', 'NO', 'PA', 'PY', 'PE', 'PH', 'PL', 'PT', 'SG', 'SK', 'ES', 'SE', 'CH', 'TW', 'TR', 'UY', 'US', 'GB', 'AD', 'LI', 'MC', 'ID', 'JP', 'TH', 'VN', 'RO', 'IL', 'ZA', 'SA', 'AE', 'BH', 'QA', 'OM', 'KW', 'EG', 'MA', 'DZ', 'TN', 'LB', 'JO', 'PS', 'IN', 'KZ', 'MD', 'UA', 'AL', 'BA', 'HR', 'ME', 'MK', 'RS', 'SI', 'KR', 'BD', 'PK', 'LK', 'GH', 'KE', 'NG', 'TZ', 'UG', 'AG', 'AM', 'BS', 'BB', 'BZ', 'BT', 'BW', 'BF', 'CV', 'CW', 'DM', 'FJ', 'GM', 'GE', 'GD', 'GW', 'GY', 'HT', 'JM', 'KI', 'LS', 'LR', 'MW', 'MV', 'ML', 'MH', 'FM', 'NA', 'NR', 'NE', 'PW', 'PG', 'WS', 'SM', 'ST', 'SN', 'SC', 'SL', 'SB', 'KN', 'LC', 'VC', 'SR', 'TL', 'TO', 'TT', 'TV', 'VU', 'AZ', 'BN', 'BI', 'KH', 'CM', 'TD', 'KM', 'GQ', 'SZ', 'GA', 'GN', 'KG', 'LA', 'MO', 'MR', 'MN', 'NP', 'RW', 'TG', 'UZ', 'ZW', 'BJ', 'MG', 'MU', 'MZ', 'AO', 'CI', 'DJ', 'ZM', 'CD', 'CG', 'IQ', 'LY', 'TJ', 'VE', 'ET', 'XK'], external_urls=Row(spotify='https://open.spotify.com/album/09XyW9pKOCq5Cqq7IITKDB'), href='https://api.spotify.com/v1/albums/09XyW9pKOCq5Cqq7IITKDB', id='09XyW9pKOCq5Cqq7IITKDB', images=[Row(height=640, url='https://i.scdn.co/image/ab67616d0000b2735dc58dc72b5f699a8ec6b8d6', width=640), Row(height=300, url='https://i.scdn.co/image/ab67616d00001e025dc58dc72b5f699a8ec6b8d6', width=300), Row(height=64, url='https://i.scdn.co/image/ab67616d000048515dc58dc72b5f699a8ec6b8d6', width=64)], name='The DJ Is Crying For Help', release_date='2022-11-18', release_date_precision='day', total_tracks=1, type='album', uri='spotify:album:09XyW9pKOCq5Cqq7IITKDB')\n"
     ]
    }
   ],
   "source": [
    "print(df.select('album').collect()[0][0])"
   ]
  },
  {
   "cell_type": "code",
   "execution_count": 14,
   "metadata": {},
   "outputs": [
    {
     "name": "stdout",
     "output_type": "stream",
     "text": [
      "SINGLE\n"
     ]
    }
   ],
   "source": [
    "print(df.select('album').collect()[0][0]['album_type'])"
   ]
  },
  {
   "cell_type": "code",
   "execution_count": 12,
   "metadata": {},
   "outputs": [
    {
     "data": {
      "text/plain": [
       "['album',\n",
       " 'artists',\n",
       " 'available_markets',\n",
       " 'disc_number',\n",
       " 'duration_ms',\n",
       " 'explicit',\n",
       " 'external_ids',\n",
       " 'external_urls',\n",
       " 'href',\n",
       " 'id',\n",
       " 'is_local',\n",
       " 'name',\n",
       " 'popularity',\n",
       " 'preview_url',\n",
       " 'track_number',\n",
       " 'type',\n",
       " 'uri']"
      ]
     },
     "execution_count": 12,
     "metadata": {},
     "output_type": "execute_result"
    }
   ],
   "source": [
    "df.columns"
   ]
  }
 ],
 "metadata": {
  "kernelspec": {
   "display_name": "venv",
   "language": "python",
   "name": "python3"
  },
  "language_info": {
   "codemirror_mode": {
    "name": "ipython",
    "version": 3
   },
   "file_extension": ".py",
   "mimetype": "text/x-python",
   "name": "python",
   "nbconvert_exporter": "python",
   "pygments_lexer": "ipython3",
   "version": "3.12.3"
  }
 },
 "nbformat": 4,
 "nbformat_minor": 2
}
